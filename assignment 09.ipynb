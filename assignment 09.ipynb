{
 "cells": [
  {
   "cell_type": "markdown",
   "metadata": {},
   "source": [
    "- 20144753 Seung Yeop, Seon\n",
    "- https://github.com/SYseon/Assignment09\n",
    "- Use least square, we can get a boundary which helps to decide where the sample belongs\n",
    "- Put the values from the product of feature and parameter into the sign function.\n",
    "\n",
    "\\begin{equation} Using\\ random\\ variables, make\\ feature\\ fucntions\\ f(x)\\ then, \\end{equation}\n",
    "\\begin{equation}A=\\begin{Bmatrix} \n",
    "     f(x_{1})_{1} & f(x_{1})_{2} & \\dots & f(x_{1})_{p}\\\\\n",
    "    f(x_{2})_{1} & f(x_{2})_{2} & \\dots & f(x_{2})_{p}\\\\\n",
    "    \\vdots & \\vdots & \\vdots & \\vdots \\\\\n",
    "    f(x_{m})_{1} & f(x_{m})_{2} & \\dots & f(x_{m})_{p}\\\\\n",
    "   \\end{Bmatrix}\n",
    "   \\end{equation}\n",
    "\n",
    "\\begin{equation}b=\\begin{Bmatrix} \n",
    "      y_1\\\\\n",
    "    y_2\\\\\n",
    "    \\vdots\\\\\n",
    "    y_n\\\\\n",
    "   \\end{Bmatrix}\n",
    "   \\end{equation}\n",
    "\n",
    "\\begin{equation}\\theta=(A^TA)^{-1}A^Tb\\end{equation}\n",
    "\n",
    "\\begin{equation} if,\\;x<0\\; then,\\;sign(x)= -1.\\quad otherwise,\\; sign(x)= 1 \\end{equation}"
   ]
  },
  {
   "cell_type": "code",
   "execution_count": 26,
   "metadata": {},
   "outputs": [
    {
     "data": {
      "image/png": "[encoded data removed]",
      "text/plain": [
       "<Figure size 432x288 with 1 Axes>"
      ]
     },
     "metadata": {
      "needs_background": "light"
     },
     "output_type": "display_data"
    },
    {
     "name": "stdout",
     "output_type": "stream",
     "text": [
      "Maximum F1 score : 0.8614116434827408 When p =  128\n"
     ]
    }
   ],
   "source": [
    "import pandas as pd\n",
    "import numpy as np\n",
    "import matplotlib.pyplot as plt\n",
    "import numpy.linalg as lin\n",
    "from sklearn.metrics import f1_score\n",
    " \n",
    "class classifier():\n",
    "    def __init__(self, p = 1):\n",
    "        self.p = p\n",
    " \n",
    "    def fit(self, X, y):\n",
    "        X = np.where(np.isnan(X), 0, X)\n",
    "        self.X = self.min_max(X)\n",
    "        self.y = y\n",
    "        self.r = np.random.normal(0, 1, (self.p,self.X.shape[1]))\n",
    "        self.alpha = 0;\n",
    "        self.tr_A = self.feature_change(self.X)\n",
    "        self.w = np.dot(np.dot(lin.inv(np.dot(self.tr_A.T,self.tr_A)), self.tr_A.T), self.y)\n",
    "        \n",
    "    def feature_change(self, X):\n",
    "        A = np.zeros((X.shape[0], self.p))\n",
    "        for j in range(X.shape[0]):\n",
    "            for i in range(self.p):\n",
    "                A[j][i] = np.dot(X[j], self.r[i].T)\n",
    "        return A\n",
    "    \n",
    "    def min_max(self, data):\n",
    "        result = (data-data.min()) / (data.max() - data.min())\n",
    "        return result\n",
    " \n",
    "    def sign(self, data, alpha = 0):\n",
    "        return np.where(data>=alpha, 1, -1)\n",
    " \n",
    "    def predict(self, ts_x):\n",
    "        self.ts_A = self.feature_change(self.min_max(ts_x))\n",
    "        return self.sign(np.dot(self.ts_A, self.w), self.alpha)\n",
    " \n",
    "            \n",
    "tr = pd.read_csv(\"mnist_train.csv\")\n",
    "ts = pd.read_csv(\"mnist_test.csv\")\n",
    "tr_data = np.array(tr)\n",
    "ts_data = np.array(ts)\n",
    "index_ = []\n",
    " \n",
    "for i in range(tr_data.shape[1]):\n",
    "    if np.unique(tr_data.T[i]).shape[0]==1:\n",
    "        index_.append(i)\n",
    " \n",
    "tr_y, tr_x = np.split(tr_data, [1], axis=1)\n",
    "ts_y, ts_x = np.split(ts_data, [1], axis=1)\n",
    "tr_y = np.where(tr_y.astype(int)==0, 1, -1)\n",
    "ts_y = np.where(ts_y.astype(int)==0, 1, -1)\n",
    "x=np.arange(1,11)\n",
    "max_f1_score = 0\n",
    "max_p = 0\n",
    "for i in x:\n",
    "    clf = classifier(2**i)\n",
    "    clf.fit(tr_x, tr_y)\n",
    "    y_pred = clf.predict(ts_x)\n",
    "    y=f1_score(ts_y, y_pred)\n",
    "    if y>max_f1_score:\n",
    "        max_f1_score = y\n",
    "        max_p = i\n",
    "    plt.scatter(i, y, label=i)\n",
    " \n",
    "plt.ylabel(\"F1 score\")\n",
    "plt.xlabel(\"log_2{p}\")\n",
    "plt.legend(bbox_to_anchor=(1,1))\n",
    "plt.show()\n",
    "print(\"Maximum F1 score :\",max_f1_score, \"When p = \", 2**max_p)\n",
    "clf = classifier(2**max_p)\n",
    "clf.fit(tr_x, tr_y)\n",
    "y_pred = clf.predict(ts_x)\n",
    "TP_index = []\n",
    "TN_index = []\n",
    "FP_index = []\n",
    "FN_index = []\n",
    " \n",
    "for i in range(y_pred.shape[0]):\n",
    "    if y_pred[i] == 1 and y_pred[i] == ts_y[i]:\n",
    "        TP_index.append(i)\n",
    "    elif y_pred[i] == -1 and y_pred[i] == ts_y[i]:\n",
    "        TN_index.append(i)\n",
    "    elif y_pred[i] == 1 and y_pred[i] != ts_y[i]:\n",
    "        FP_index.append(i)\n",
    "    else:\n",
    "        FN_index.append(i)\n",
    "ts = np.array(ts)\n",
    "_, ts = np.split(ts, [1], axis=1)\n",
    "F_score = [len(TP_index), len(FP_index),len(TN_index), len(FN_index)]\n",
    "TP_image = np.zeros(ts.shape[1])\n",
    "TN_image = np.zeros(ts.shape[1])\n",
    "FP_image = np.zeros(ts.shape[1])\n",
    "FN_image = np.zeros(ts.shape[1]) \n",
    "for i in TP_index:\n",
    "    TP_image += ts[i]/len(TP_index)    \n",
    "for i in TN_index:\n",
    "    TN_image += ts[i]/len(TN_index)\n",
    "for i in FP_index:\n",
    "    FP_image += ts[i]/len(FP_index)\n",
    "for i in FN_index:\n",
    "    FN_image += ts[i]/len(FN_index)\n"
   ]
  },
  {
   "cell_type": "code",
   "execution_count": 27,
   "metadata": {},
   "outputs": [
    {
     "data": {
      "image/png": "[encoded data removed]",
      "text/plain": [
       "<Figure size 432x288 with 1 Axes>"
      ]
     },
     "metadata": {
      "needs_background": "light"
     },
     "output_type": "display_data"
    }
   ],
   "source": [
    "plt.imshow(TP_image.reshape((28,28)))\n",
    "plt.show()"
   ]
  },
  {
   "cell_type": "markdown",
   "metadata": {},
   "source": [
    "\\begin{equation} \\ True\\ positive\\ image.\\ When,\\ p = 2^{7} \\end{equation}"
   ]
  },
  {
   "cell_type": "code",
   "execution_count": 28,
   "metadata": {},
   "outputs": [
    {
     "data": {
      "image/png": "[encoded data removed]",
      "text/plain": [
       "<Figure size 432x288 with 1 Axes>"
      ]
     },
     "metadata": {
      "needs_background": "light"
     },
     "output_type": "display_data"
    }
   ],
   "source": [
    "plt.imshow(FP_image.reshape((28,28)))\n",
    "plt.show()"
   ]
  },
  {
   "cell_type": "markdown",
   "metadata": {},
   "source": [
    "\\begin{equation} \\ False\\ positive\\ image.\\ When,\\ p = 2^{7} \\end{equation}"
   ]
  },
  {
   "cell_type": "code",
   "execution_count": 29,
   "metadata": {},
   "outputs": [
    {
     "data": {
      "image/png": "[encoded data removed]",
      "text/plain": [
       "<Figure size 432x288 with 1 Axes>"
      ]
     },
     "metadata": {
      "needs_background": "light"
     },
     "output_type": "display_data"
    }
   ],
   "source": [
    "plt.imshow(TN_image.reshape((28,28)))\n",
    "plt.show()"
   ]
  },
  {
   "cell_type": "markdown",
   "metadata": {},
   "source": [
    "\\begin{equation} \\ True\\ negative\\ image.\\ When,\\ p = 2^{7} \\end{equation}"
   ]
  },
  {
   "cell_type": "code",
   "execution_count": 30,
   "metadata": {},
   "outputs": [
    {
     "data": {
      "image/png": "[encoded data removed]",
      "text/plain": [
       "<Figure size 432x288 with 1 Axes>"
      ]
     },
     "metadata": {
      "needs_background": "light"
     },
     "output_type": "display_data"
    }
   ],
   "source": [
    "plt.imshow(FN_image.reshape((28,28)))\n",
    "plt.show()"
   ]
  },
  {
   "cell_type": "markdown",
   "metadata": {},
   "source": [
    "\\begin{equation} \\ False\\ negative\\ image.\\ When,\\ p = 2^{7} \\end{equation}"
   ]
  },
  {
   "cell_type": "code",
   "execution_count": 31,
   "metadata": {},
   "outputs": [
    {
     "name": "stdout",
     "output_type": "stream",
     "text": [
      "[841, 144, 8875, 139]\n"
     ]
    }
   ],
   "source": [
    "print(F_score)"
   ]
  },
  {
   "cell_type": "markdown",
   "metadata": {},
   "source": [
    "\\begin{equation} Evaluation \\ table \\ [TP, FP, TN, FN].\\ When, \\ p = 2^{7} \\end{equation}"
   ]
  },
  {
   "cell_type": "code",
   "execution_count": null,
   "metadata": {},
   "outputs": [],
   "source": []
  }
 ],
 "metadata": {
  "kernelspec": {
   "display_name": "Python 3",
   "language": "python",
   "name": "python3"
  },
  "language_info": {
   "codemirror_mode": {
    "name": "ipython",
    "version": 3
   },
   "file_extension": ".py",
   "mimetype": "text/x-python",
   "name": "python",
   "nbconvert_exporter": "python",
   "pygments_lexer": "ipython3",
   "version": "3.6.5"
  }
 },
 "nbformat": 4,
 "nbformat_minor": 2
}
